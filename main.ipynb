{
 "cells": [
  {
   "cell_type": "markdown",
   "id": "5f424451-13e7-479a-b58d-09a8cbeba457",
   "metadata": {},
   "source": [
    "# Build List of all run"
   ]
  },
  {
   "cell_type": "code",
   "execution_count": 43,
   "id": "a09f4e5f-e842-4385-8bd6-b202a7530fa7",
   "metadata": {},
   "outputs": [
    {
     "name": "stdout",
     "output_type": "stream",
     "text": [
      "[{'cmd_opt': ['echo', 'A', 'aaa', 'xxx'], 'cmd_type': 'shell'},\n",
      " {'cmd_opt': ['echo', 'B', 'bbb'], 'cmd_type': 'shell'},\n",
      " {'cmd_opt': ['echo', 'C', 'ccc'], 'cmd_type': 'shell'},\n",
      " {'cmd_opt': ['echo', 'B', 'bbb'], 'cmd_type': 'shell'},\n",
      " {'cmd_opt': ['echo', 'B', 'bbb'], 'cmd_type': 'python'}]\n",
      "[{'cmd_opt': ['echo', 'A', 'aaa', 'xxx'], 'cmd_type': 'shell'},\n",
      " {'cmd_opt': ['echo', 'B', 'bbb'], 'cmd_type': 'shell'},\n",
      " {'cmd_opt': ['echo', 'C', 'ccc'], 'cmd_type': 'shell'}]\n"
     ]
    }
   ],
   "source": [
    "from pprint import pprint\n",
    "\n",
    "list_run = []\n",
    "\n",
    "def def_run(cmd_type, *args):\n",
    "    test = {}\n",
    "    test['cmd_type'] = cmd_type\n",
    "    test['cmd_opt'] = list(args)\n",
    "    list_run.append(test)\n",
    "\n",
    "def_run('shell', 'echo', 'A', 'aaa', 'xxx')\n",
    "def_run('shell', 'echo', 'B', 'bbb')\n",
    "def_run('shell', 'echo', 'C', 'ccc')\n",
    "def_run('shell', 'echo', 'B', 'bbb')\n",
    "def_run('python', 'echo', 'B', 'bbb')\n",
    "\n",
    "pprint(list_run)\n",
    "\n",
    "def remove_duplicates(lst):\n",
    "    seen = set()\n",
    "    result = []\n",
    "    for d in lst:\n",
    "        # t = tuple(d.items())\n",
    "        t = tuple(d['cmd_opt'])\n",
    "        if t not in seen:\n",
    "            seen.add(t)\n",
    "            result.append(d)\n",
    "    return result\n",
    "\n",
    "unique_list = remove_duplicates(list_run)\n",
    "pprint(unique_list)\n"
   ]
  },
  {
   "cell_type": "markdown",
   "id": "d285199a-8c1a-4cdf-b162-fc6bf5ce0332",
   "metadata": {},
   "source": [
    "# Define function for single run"
   ]
  },
  {
   "cell_type": "code",
   "execution_count": 24,
   "id": "bee8e27a-f992-4775-b078-f7ad825c26e5",
   "metadata": {},
   "outputs": [],
   "source": [
    "import random\n",
    "import time\n",
    "import os\n",
    "\n",
    "def func(x):\n",
    "    if (x['cmd_type']=='shell'):\n",
    "        delay = random.randint(1, 9)/10\n",
    "        time.sleep(delay)\n",
    "        \n",
    "        cmd = ' '.join(x['cmd_opt'])\n",
    "        # print(cmd)\n",
    "        os.system(f'{cmd} , delay = {delay}')\n",
    "    elif (x['cmd_type']=='script'):\n",
    "        pass\n",
    "    elif (x['cmd_type']=='python'):\n",
    "        pass\n",
    "    else:\n",
    "        print('Error :: command type not found !')"
   ]
  },
  {
   "cell_type": "markdown",
   "id": "08283ffc-e971-4631-93e9-07841c0086e0",
   "metadata": {},
   "source": [
    "# Call function to run item from list"
   ]
  },
  {
   "cell_type": "code",
   "execution_count": 25,
   "id": "3e444a63-1f41-4285-81ad-07d434dd0695",
   "metadata": {},
   "outputs": [
    {
     "name": "stdout",
     "output_type": "stream",
     "text": [
      "A aaa xxx , delay = 0.2\n",
      "B bbb , delay = 0.8\n",
      "C ccc , delay = 0.2\n",
      "B bbb , delay = 0.4\n"
     ]
    }
   ],
   "source": [
    "for item in list_run:\n",
    "    func(item)"
   ]
  },
  {
   "cell_type": "code",
   "execution_count": 4,
   "id": "d42bf2ff-2873-47f7-ae01-e26a8e8eb6ec",
   "metadata": {},
   "outputs": [],
   "source": [
    "seq = [func(item) for item in list_run]"
   ]
  },
  {
   "cell_type": "code",
   "execution_count": 5,
   "id": "36c8ed52-d2b8-4a07-8fbb-3665dab3fe13",
   "metadata": {},
   "outputs": [],
   "source": [
    "import multiprocessing\n",
    "from multiprocessing import Pool\n",
    "\n",
    "if __name__== '__main__':\n",
    "    with Pool(4) as p:\n",
    "        seq = p.map(func, [item for item in list_run])"
   ]
  }
 ],
 "metadata": {
  "kernelspec": {
   "display_name": "Python 3 (ipykernel)",
   "language": "python",
   "name": "python3"
  },
  "language_info": {
   "codemirror_mode": {
    "name": "ipython",
    "version": 3
   },
   "file_extension": ".py",
   "mimetype": "text/x-python",
   "name": "python",
   "nbconvert_exporter": "python",
   "pygments_lexer": "ipython3",
   "version": "3.11.6"
  }
 },
 "nbformat": 4,
 "nbformat_minor": 5
}
