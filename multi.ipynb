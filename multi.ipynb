{
 "cells": [
  {
   "cell_type": "markdown",
   "id": "68633a52-607c-46a1-9b98-e62ec95ebe3c",
   "metadata": {},
   "source": [
    "# 1. Check number of CPU count"
   ]
  },
  {
   "cell_type": "code",
   "execution_count": 1,
   "id": "1e49d4ee-7997-481c-bdac-c6b57bd18050",
   "metadata": {},
   "outputs": [
    {
     "name": "stdout",
     "output_type": "stream",
     "text": [
      "Number of CPU : 4\n"
     ]
    }
   ],
   "source": [
    "import time\n",
    "import multiprocessing\n",
    "from multiprocessing import Pool\n",
    "\n",
    "print(\"Number of CPU :\", multiprocessing.cpu_count())"
   ]
  },
  {
   "cell_type": "markdown",
   "id": "ca7904d3-fdd9-458a-9fda-58320c1e1cfb",
   "metadata": {},
   "source": [
    "# 2. Define benchmark task"
   ]
  },
  {
   "cell_type": "code",
   "execution_count": 2,
   "id": "5f5367a0-46e9-4a47-9579-67b4b6aff4b6",
   "metadata": {},
   "outputs": [],
   "source": [
    "def f(x):\n",
    "    time.sleep(0.01)\n",
    "    return x*x"
   ]
  },
  {
   "cell_type": "markdown",
   "id": "a9c696c2-3d04-4775-a265-ffefade60506",
   "metadata": {},
   "source": [
    "# 3. Time the task run time on single process"
   ]
  },
  {
   "cell_type": "code",
   "execution_count": 3,
   "id": "88b8cbc8-aa91-4016-842f-6a5a11892886",
   "metadata": {},
   "outputs": [
    {
     "name": "stdout",
     "output_type": "stream",
     "text": [
      "3.02 s ± 5.38 ms per loop (mean ± std. dev. of 7 runs, 1 loop each)\n"
     ]
    }
   ],
   "source": [
    "%%timeit\n",
    "\n",
    "seq = [f(i) for i in range(int(300))]"
   ]
  },
  {
   "cell_type": "markdown",
   "id": "fc0b8835-a662-4dd2-9b30-445bda0775e5",
   "metadata": {},
   "source": [
    "# 4. Time the task run time on multi process"
   ]
  },
  {
   "cell_type": "code",
   "execution_count": 4,
   "id": "a1cafa4f-4b9f-415c-ac77-3ec8c822b77f",
   "metadata": {},
   "outputs": [
    {
     "name": "stdout",
     "output_type": "stream",
     "text": [
      "836 ms ± 6.29 ms per loop (mean ± std. dev. of 7 runs, 1 loop each)\n"
     ]
    }
   ],
   "source": [
    "%%timeit\n",
    "\n",
    "if __name__== '__main__':\n",
    "    with Pool(4) as p:\n",
    "        seq = p.map(f, [i for i in range(int(300))])"
   ]
  }
 ],
 "metadata": {
  "kernelspec": {
   "display_name": "Python 3 (ipykernel)",
   "language": "python",
   "name": "python3"
  },
  "language_info": {
   "codemirror_mode": {
    "name": "ipython",
    "version": 3
   },
   "file_extension": ".py",
   "mimetype": "text/x-python",
   "name": "python",
   "nbconvert_exporter": "python",
   "pygments_lexer": "ipython3",
   "version": "3.11.6"
  }
 },
 "nbformat": 4,
 "nbformat_minor": 5
}
