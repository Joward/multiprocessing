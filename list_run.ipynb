{
 "cells": [
  {
   "cell_type": "markdown",
   "id": "5f424451-13e7-479a-b58d-09a8cbeba457",
   "metadata": {},
   "source": [
    "# Build List of all run"
   ]
  },
  {
   "cell_type": "code",
   "execution_count": 1,
   "id": "a09f4e5f-e842-4385-8bd6-b202a7530fa7",
   "metadata": {},
   "outputs": [
    {
     "name": "stdout",
     "output_type": "stream",
     "text": [
      "{('B', 'bbb'), ('A', 'aaa'), ('C', 'ccc')}\n"
     ]
    }
   ],
   "source": [
    "list_run = set()\n",
    "\n",
    "def def_run(*args):\n",
    "    test = list(args)\n",
    "    list_run.add(tuple(test))\n",
    "    pass\n",
    "\n",
    "def_run('A', 'aaa')\n",
    "def_run('B', 'bbb')\n",
    "def_run('C', 'ccc')\n",
    "\n",
    "print(list_run)"
   ]
  },
  {
   "cell_type": "markdown",
   "id": "d285199a-8c1a-4cdf-b162-fc6bf5ce0332",
   "metadata": {},
   "source": [
    "# Define function for single run"
   ]
  },
  {
   "cell_type": "code",
   "execution_count": 2,
   "id": "bee8e27a-f992-4775-b078-f7ad825c26e5",
   "metadata": {},
   "outputs": [],
   "source": [
    "import time\n",
    "import random\n",
    "\n",
    "import os\n",
    "\n",
    "def func(x):\n",
    "    delay = random.randint(1, 9)/10\n",
    "    time.sleep(delay)\n",
    "    # print(x, delay)\n",
    "\n",
    "    os.system(f'echo {x[0]}, {x[1]}, delay = {delay}')\n",
    "    pass"
   ]
  },
  {
   "cell_type": "markdown",
   "id": "08283ffc-e971-4631-93e9-07841c0086e0",
   "metadata": {},
   "source": [
    "# Call function to run item from list"
   ]
  },
  {
   "cell_type": "code",
   "execution_count": 3,
   "id": "3e444a63-1f41-4285-81ad-07d434dd0695",
   "metadata": {},
   "outputs": [
    {
     "name": "stdout",
     "output_type": "stream",
     "text": [
      "B, bbb, delay = 0.4\n",
      "A, aaa, delay = 0.2\n",
      "C, ccc, delay = 0.9\n"
     ]
    }
   ],
   "source": [
    "for item in list_run:\n",
    "    func(item)"
   ]
  },
  {
   "cell_type": "code",
   "execution_count": 4,
   "id": "d42bf2ff-2873-47f7-ae01-e26a8e8eb6ec",
   "metadata": {},
   "outputs": [
    {
     "name": "stdout",
     "output_type": "stream",
     "text": [
      "B, bbb, delay = 0.9\n",
      "A, aaa, delay = 0.6\n",
      "C, ccc, delay = 0.6\n"
     ]
    }
   ],
   "source": [
    "seq = [func(item) for item in list_run]"
   ]
  },
  {
   "cell_type": "code",
   "execution_count": 5,
   "id": "36c8ed52-d2b8-4a07-8fbb-3665dab3fe13",
   "metadata": {},
   "outputs": [
    {
     "name": "stdout",
     "output_type": "stream",
     "text": [
      "A, aaa, delay = 0.3\n",
      "B, bbb, delay = 0.5\n",
      "C, ccc, delay = 0.8\n"
     ]
    }
   ],
   "source": [
    "import multiprocessing\n",
    "from multiprocessing import Pool\n",
    "\n",
    "if __name__== '__main__':\n",
    "    with Pool(4) as p:\n",
    "        seq = p.map(func, [item for item in list_run])"
   ]
  }
 ],
 "metadata": {
  "kernelspec": {
   "display_name": "Python 3 (ipykernel)",
   "language": "python",
   "name": "python3"
  },
  "language_info": {
   "codemirror_mode": {
    "name": "ipython",
    "version": 3
   },
   "file_extension": ".py",
   "mimetype": "text/x-python",
   "name": "python",
   "nbconvert_exporter": "python",
   "pygments_lexer": "ipython3",
   "version": "3.11.6"
  }
 },
 "nbformat": 4,
 "nbformat_minor": 5
}
