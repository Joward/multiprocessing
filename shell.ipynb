{
 "cells": [
  {
   "cell_type": "code",
   "execution_count": 1,
   "id": "9e9e8209-5326-4d0b-b017-9f906770807c",
   "metadata": {},
   "outputs": [
    {
     "name": "stdout",
     "output_type": "stream",
     "text": [
      "C ccc , delay = 0.7\n",
      "B bbb , delay = 0.9\n",
      "A aaa xxx , delay = 0.9\n",
      "C ccc , delay = 0.9\n",
      "B bbb , delay = 0.5\n",
      "A aaa xxx , delay = 0.8\n",
      "Number of CPU : 4\n",
      "C ccc , delay = 0.5\n",
      "A aaa xxx , delay = 0.6\n",
      "B bbb , delay = 0.9\n"
     ]
    }
   ],
   "source": [
    "%run main.py"
   ]
  }
 ],
 "metadata": {
  "kernelspec": {
   "display_name": "Python 3 (ipykernel)",
   "language": "python",
   "name": "python3"
  },
  "language_info": {
   "codemirror_mode": {
    "name": "ipython",
    "version": 3
   },
   "file_extension": ".py",
   "mimetype": "text/x-python",
   "name": "python",
   "nbconvert_exporter": "python",
   "pygments_lexer": "ipython3",
   "version": "3.11.6"
  }
 },
 "nbformat": 4,
 "nbformat_minor": 5
}
